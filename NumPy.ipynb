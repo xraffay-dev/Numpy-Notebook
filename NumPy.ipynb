{
 "cells": [
  {
   "cell_type": "markdown",
   "id": "9f1ee82d",
   "metadata": {},
   "source": [
    "# Definition:\n",
    "NumPy is a library that allows us to perform large scale mathematical scientific calculations efficiently, quicikly and flexibly.\n",
    "\n",
    "Num-> Numerical\n",
    "Py->Python\n",
    "NumPy->Nummerical Python"
   ]
  },
  {
   "cell_type": "markdown",
   "id": "2f538950",
   "metadata": {},
   "source": [
    "# Range()"
   ]
  },
  {
   "cell_type": "markdown",
   "id": "71bfb60b",
   "metadata": {},
   "source": [
    "range(start, stop, step)\n",
    "\n",
    "Starts from start but ends at stop-1"
   ]
  },
  {
   "cell_type": "code",
   "execution_count": 1,
   "id": "850f3c1b",
   "metadata": {},
   "outputs": [
    {
     "data": {
      "text/plain": [
       "range(0, 5)"
      ]
     },
     "execution_count": 1,
     "metadata": {},
     "output_type": "execute_result"
    }
   ],
   "source": [
    "range(0,5)"
   ]
  },
  {
   "cell_type": "code",
   "execution_count": 2,
   "id": "d9d880f2",
   "metadata": {},
   "outputs": [
    {
     "data": {
      "text/plain": [
       "[0, 1, 2, 3, 4]"
      ]
     },
     "execution_count": 2,
     "metadata": {},
     "output_type": "execute_result"
    }
   ],
   "source": [
    "list(range(0,5))"
   ]
  },
  {
   "cell_type": "code",
   "execution_count": 3,
   "id": "9c8e592b",
   "metadata": {},
   "outputs": [
    {
     "data": {
      "text/plain": [
       "[0, 2, 4]"
      ]
     },
     "execution_count": 3,
     "metadata": {},
     "output_type": "execute_result"
    }
   ],
   "source": [
    "list(range(0,5,2))"
   ]
  },
  {
   "cell_type": "code",
   "execution_count": 9,
   "id": "bbdb3c12",
   "metadata": {},
   "outputs": [
    {
     "name": "stdout",
     "output_type": "stream",
     "text": [
      "[1, 4, 9, 16, 25]\n"
     ]
    }
   ],
   "source": [
    "list1=[1,2,3,4,5]\n",
    "list2=[1,2,3,4,5]\n",
    "listMUX=[]\n",
    "for i in range(0,len(list1)):\n",
    "    listMUX.append(list1[i]*list2[i])\n",
    "print(listMUX)"
   ]
  },
  {
   "cell_type": "markdown",
   "id": "f75f1c9e",
   "metadata": {},
   "source": [
    " "
   ]
  },
  {
   "cell_type": "code",
   "execution_count": 10,
   "id": "2ee586dc",
   "metadata": {},
   "outputs": [],
   "source": [
    "import numpy as np"
   ]
  },
  {
   "cell_type": "code",
   "execution_count": 11,
   "id": "dfd2ad97",
   "metadata": {},
   "outputs": [
    {
     "name": "stdout",
     "output_type": "stream",
     "text": [
      "[ 1  4  9 16 25]\n"
     ]
    }
   ],
   "source": [
    "numList1=np.array([1,2,3,4,5])\n",
    "numList2=np.array([1,2,3,4,5])\n",
    "print(numList1*numList2)"
   ]
  },
  {
   "cell_type": "markdown",
   "id": "b1d6d2ac",
   "metadata": {},
   "source": [
    "# NumPy Array()"
   ]
  },
  {
   "cell_type": "code",
   "execution_count": 17,
   "id": "13e81309",
   "metadata": {},
   "outputs": [],
   "source": [
    "import numpy as np"
   ]
  },
  {
   "cell_type": "code",
   "execution_count": 9,
   "id": "56d56a02",
   "metadata": {},
   "outputs": [
    {
     "name": "stdout",
     "output_type": "stream",
     "text": [
      "<class 'builtin_function_or_method'>\n"
     ]
    }
   ],
   "source": [
    "np.array([1,2,3,4,5])               #creates an array"
   ]
  },
  {
   "cell_type": "code",
   "execution_count": 4,
   "id": "2cb5f007",
   "metadata": {},
   "outputs": [
    {
     "data": {
      "text/plain": [
       "[1, 2, 3.5, 4, 5.1]"
      ]
     },
     "execution_count": 4,
     "metadata": {},
     "output_type": "execute_result"
    }
   ],
   "source": [
    "list1=[1,2,3.5,4,5.1]               #list contains data in multiple data types\n",
    "list1"
   ]
  },
  {
   "cell_type": "code",
   "execution_count": 5,
   "id": "7f549b9e",
   "metadata": {},
   "outputs": [
    {
     "name": "stdout",
     "output_type": "stream",
     "text": [
      "<class 'list'>\n"
     ]
    }
   ],
   "source": [
    "print(type(list1))"
   ]
  },
  {
   "cell_type": "code",
   "execution_count": 10,
   "id": "6a6ec8b4",
   "metadata": {},
   "outputs": [
    {
     "data": {
      "text/plain": [
       "array([1. , 2. , 3.5, 4. , 5.1])"
      ]
     },
     "execution_count": 10,
     "metadata": {},
     "output_type": "execute_result"
    }
   ],
   "source": [
    "np.array([1,2,3.5,4,5.1])            #array() contains elemets in 1 data type only"
   ]
  },
  {
   "cell_type": "code",
   "execution_count": 11,
   "id": "29d2b886",
   "metadata": {},
   "outputs": [
    {
     "data": {
      "text/plain": [
       "array([1, 2, 3, 4, 5])"
      ]
     },
     "execution_count": 11,
     "metadata": {},
     "output_type": "execute_result"
    }
   ],
   "source": [
    "np.array([1,2,3.5,4,5.1],dtype=\"int\")"
   ]
  },
  {
   "cell_type": "code",
   "execution_count": 19,
   "id": "012db44d",
   "metadata": {},
   "outputs": [
    {
     "data": {
      "text/plain": [
       "array([[1, 2, 3],\n",
       "       [4, 5, 6]])"
      ]
     },
     "execution_count": 19,
     "metadata": {},
     "output_type": "execute_result"
    }
   ],
   "source": [
    "np.array([[1,2,3],[4,5,6]])          #Creating a two dimensional array using array() function"
   ]
  },
  {
   "cell_type": "markdown",
   "id": "d4d3b400",
   "metadata": {},
   "source": [
    "Conclusion: List can store data of different data types while numpy array store data of only 1 data type and to convert data in the desired data type you can use \"dtype=\"type\"\""
   ]
  },
  {
   "cell_type": "markdown",
   "id": "2bba8f7a",
   "metadata": {},
   "source": [
    "# Zeros()"
   ]
  },
  {
   "cell_type": "code",
   "execution_count": 12,
   "id": "25026a06",
   "metadata": {},
   "outputs": [
    {
     "data": {
      "text/plain": [
       "array([0., 0., 0., 0., 0.])"
      ]
     },
     "execution_count": 12,
     "metadata": {},
     "output_type": "execute_result"
    }
   ],
   "source": [
    "np.zeros(5)                      #creates an array containing zero in all its elements"
   ]
  },
  {
   "cell_type": "code",
   "execution_count": 13,
   "id": "19f18943",
   "metadata": {},
   "outputs": [
    {
     "data": {
      "text/plain": [
       "array([0, 0, 0, 0, 0])"
      ]
     },
     "execution_count": 13,
     "metadata": {},
     "output_type": "execute_result"
    }
   ],
   "source": [
    "np.zeros(5,dtype=\"int\")"
   ]
  },
  {
   "cell_type": "code",
   "execution_count": 14,
   "id": "0b1da68e",
   "metadata": {},
   "outputs": [
    {
     "data": {
      "text/plain": [
       "array([[0, 0],\n",
       "       [0, 0]])"
      ]
     },
     "execution_count": 14,
     "metadata": {},
     "output_type": "execute_result"
    }
   ],
   "source": [
    "np.zeros((2,2),dtype=\"int\")"
   ]
  },
  {
   "cell_type": "code",
   "execution_count": 23,
   "id": "f964d425",
   "metadata": {},
   "outputs": [
    {
     "data": {
      "text/plain": [
       "array([[[0, 0, 0, 0],\n",
       "        [0, 0, 0, 0],\n",
       "        [0, 0, 0, 0]],\n",
       "\n",
       "       [[0, 0, 0, 0],\n",
       "        [0, 0, 0, 0],\n",
       "        [0, 0, 0, 0]]])"
      ]
     },
     "execution_count": 23,
     "metadata": {},
     "output_type": "execute_result"
    }
   ],
   "source": [
    "np.zeros((2,3,4),dtype=\"int\")\n",
    "#        (z,x,y)"
   ]
  },
  {
   "cell_type": "markdown",
   "id": "57ebbc25",
   "metadata": {},
   "source": [
    "# Ones()"
   ]
  },
  {
   "cell_type": "code",
   "execution_count": 16,
   "id": "2951f4f1",
   "metadata": {},
   "outputs": [
    {
     "data": {
      "text/plain": [
       "array([1., 1., 1., 1., 1.])"
      ]
     },
     "execution_count": 16,
     "metadata": {},
     "output_type": "execute_result"
    }
   ],
   "source": [
    "import numpy as np\n",
    "np.ones(5)                      #creates an array containing zero in all its elements"
   ]
  },
  {
   "cell_type": "code",
   "execution_count": 18,
   "id": "414ce214",
   "metadata": {},
   "outputs": [
    {
     "data": {
      "text/plain": [
       "array([[1., 1.],\n",
       "       [1., 1.]])"
      ]
     },
     "execution_count": 18,
     "metadata": {},
     "output_type": "execute_result"
    }
   ],
   "source": [
    "np.ones((2,2))"
   ]
  },
  {
   "cell_type": "code",
   "execution_count": 21,
   "id": "809c484c",
   "metadata": {},
   "outputs": [
    {
     "data": {
      "text/plain": [
       "array([[[1., 1., 1., 1.],\n",
       "        [1., 1., 1., 1.],\n",
       "        [1., 1., 1., 1.]],\n",
       "\n",
       "       [[1., 1., 1., 1.],\n",
       "        [1., 1., 1., 1.],\n",
       "        [1., 1., 1., 1.]]])"
      ]
     },
     "execution_count": 21,
     "metadata": {},
     "output_type": "execute_result"
    }
   ],
   "source": [
    "np.ones((2,3,4)) #z,x,y(depth, width, height)"
   ]
  },
  {
   "cell_type": "markdown",
   "id": "13d7ef99",
   "metadata": {},
   "source": [
    "# Full()"
   ]
  },
  {
   "cell_type": "code",
   "execution_count": 24,
   "id": "59d25046",
   "metadata": {},
   "outputs": [
    {
     "data": {
      "text/plain": [
       "array([1, 1, 1, 1, 1])"
      ]
     },
     "execution_count": 24,
     "metadata": {},
     "output_type": "execute_result"
    }
   ],
   "source": [
    "np.full(5,1)                    \n",
    "#     (size,number to be filled with)"
   ]
  },
  {
   "cell_type": "code",
   "execution_count": 25,
   "id": "eccd3231",
   "metadata": {},
   "outputs": [
    {
     "data": {
      "text/plain": [
       "array([[1, 1],\n",
       "       [1, 1]])"
      ]
     },
     "execution_count": 25,
     "metadata": {},
     "output_type": "execute_result"
    }
   ],
   "source": [
    "np.full((2,2),1)"
   ]
  },
  {
   "cell_type": "markdown",
   "id": "127c8e0d",
   "metadata": {},
   "source": [
    "Fills the array with the number given."
   ]
  },
  {
   "cell_type": "markdown",
   "id": "3381cab6",
   "metadata": {},
   "source": [
    "# Arange()"
   ]
  },
  {
   "cell_type": "code",
   "execution_count": 9,
   "id": "f2a378e4",
   "metadata": {},
   "outputs": [
    {
     "name": "stdout",
     "output_type": "stream",
     "text": [
      "[5 7 9]\n",
      "[0 1 2 3 4 5 6 7 8 9]\n"
     ]
    }
   ],
   "source": [
    "import numpy as py\n",
    "print(py.arange(5,10,2,dtype=\"int\"))\n",
    "print(py.arange(0,10,dtype=\"int\"))\n",
    "#arange(start,stop, jump, type)"
   ]
  },
  {
   "cell_type": "markdown",
   "id": "d4d70f1d",
   "metadata": {},
   "source": [
    "# Eye()"
   ]
  },
  {
   "cell_type": "code",
   "execution_count": 5,
   "id": "af40e6e2",
   "metadata": {},
   "outputs": [
    {
     "name": "stdout",
     "output_type": "stream",
     "text": [
      "[[1 0]\n",
      " [0 1]]\n",
      "[[1. 0. 0.]\n",
      " [0. 1. 0.]\n",
      " [0. 0. 1.]]\n",
      "[[1. 0.]\n",
      " [0. 1.]\n",
      " [0. 0.]]\n"
     ]
    }
   ],
   "source": [
    "import numpy as py\n",
    "print(py.eye(2,dtype=\"int\"))\n",
    "print(py.eye(3,3))\n",
    "print(py.eye(3,2))\n",
    "#eye(rows,columns(optional,considers same as rows if not present),type)"
   ]
  },
  {
   "cell_type": "markdown",
   "id": "1be91bca",
   "metadata": {},
   "source": [
    "# linspace()"
   ]
  },
  {
   "cell_type": "code",
   "execution_count": 9,
   "id": "daf5a2bc",
   "metadata": {},
   "outputs": [
    {
     "name": "stdout",
     "output_type": "stream",
     "text": [
      "[ 0.   2.5  5.   7.5 10. ]\n",
      "[ 1.    3.25  5.5   7.75 10.  ]\n"
     ]
    }
   ],
   "source": [
    "import numpy as py\n",
    "print(py.linspace(0,10,5))\n",
    "print(py.linspace(1,10,5))\n",
    "#linspace(start,stop,count=50,dtype=\"float\",ednpoint=\"False\")\n",
    "#Divides the number from start to end(inclusive) into count \"equal\" parts"
   ]
  },
  {
   "cell_type": "code",
   "execution_count": 15,
   "id": "61fb0e2c",
   "metadata": {},
   "outputs": [
    {
     "name": "stdout",
     "output_type": "stream",
     "text": [
      "[ 1.    3.25  5.5   7.75 10.  ]\n"
     ]
    }
   ],
   "source": [
    "from numpy import *\n",
    "a=linspace(1,10,5)\n",
    "print(a)"
   ]
  },
  {
   "cell_type": "markdown",
   "id": "0d2ab4a0",
   "metadata": {},
   "source": [
    "# arrange()      \n",
    "###### (converts array from lower dimension to higher)"
   ]
  },
  {
   "cell_type": "code",
   "execution_count": 20,
   "id": "bf27ba5f",
   "metadata": {},
   "outputs": [
    {
     "name": "stdout",
     "output_type": "stream",
     "text": [
      "[0 1 2 3 4 5 6 7 8 9]\n",
      "1\n",
      "[[0 1]\n",
      " [2 3]\n",
      " [4 5]\n",
      " [6 7]\n",
      " [8 9]]\n",
      "2\n",
      "[[0 1 2 3 4 5 6 7 8 9]]\n",
      "2\n"
     ]
    }
   ],
   "source": [
    "from numpy import *\n",
    "array=arange(0,10)\n",
    "print(array)\n",
    "print(array.ndim)\n",
    "array=array.reshape(5,2)\n",
    "print(array)\n",
    "print(array.ndim)\n",
    "array=array.reshape(1,10)\n",
    "print(array)\n",
    "print(array.ndim)\n",
    "#if requeriments are not met i.e number of elements are less or more then error is thrown"
   ]
  },
  {
   "cell_type": "code",
   "execution_count": 24,
   "id": "fbcbf63a",
   "metadata": {},
   "outputs": [
    {
     "name": "stdout",
     "output_type": "stream",
     "text": [
      "[[1 2]\n",
      " [3 4]\n",
      " [5 6]]\n"
     ]
    }
   ],
   "source": [
    "#Using arange function (to create array) with the reshape function(converting the 1D array to a 2D)\n",
    "array=arange(1,7).reshape((3,2)) \n",
    "print(array)"
   ]
  },
  {
   "cell_type": "markdown",
   "id": "5441a962",
   "metadata": {},
   "source": [
    "# Rand()"
   ]
  },
  {
   "cell_type": "code",
   "execution_count": 12,
   "id": "55e88bfa",
   "metadata": {},
   "outputs": [
    {
     "name": "stdout",
     "output_type": "stream",
     "text": [
      "[0.24304013 0.16038994 0.89143968 0.06281822 0.80353123] \n",
      "\n",
      "[[0.06793159 0.95883089 0.26419232 0.50955753 0.47553733]\n",
      " [0.15098046 0.6063378  0.13602908 0.72958164 0.9216685 ]\n",
      " [0.69017779 0.56450621 0.29064342 0.67473115 0.99179672]\n",
      " [0.73636838 0.3322682  0.81320997 0.0442665  0.66472504]\n",
      " [0.73890378 0.12962298 0.35596908 0.39552562 0.94971035]] \n",
      "\n",
      "[-0.67526545 -0.64571176 -0.28411033 -1.54225397 -0.6392836 ] \n",
      "\n",
      "[[ 0.93022897 -0.99078342  1.12737925 -2.21408568  1.92601596]\n",
      " [-0.46653379  1.04263073 -0.56285506  0.21065255 -0.4587721 ]\n",
      " [-1.04014985  1.49488897 -0.04521789  0.10730243  0.46818656]\n",
      " [ 1.67912046  0.41275909 -0.17026422  0.3610627   1.53079058]\n",
      " [ 0.09753929  0.11205199  0.88457868  0.27738083 -0.51880261]] \n",
      "\n",
      "6 \n",
      "\n",
      "[2 7 6 3 9 2] \n",
      "\n",
      "[[2 7 6]\n",
      " [3 9 2]] \n",
      "\n"
     ]
    }
   ],
   "source": [
    "import numpy as np\n",
    "\n",
    "#Creates an array of 5 random number between 0 and 1\n",
    "print(np.random.rand(5),\"\\n\")\n",
    "\n",
    "#Craetes an array of 5x5 of random numbers between 0 and 1(does not have to pass a tuple but pass the order)\n",
    "print(np.random.rand(5,5),\"\\n\")\n",
    "\n",
    "#Creates an array of 5 random numbers of standard normal distribution or gaussian distribution\n",
    "print(np.random.randn(5),\"\\n\")\n",
    "\n",
    "#Craetes an array of 5x5 of random numbers of standard normal distribution or gaussian distribution(does not have to pass a tuple but pass the order)\n",
    "print(np.random.randn(5,5),\"\\n\")\n",
    "\n",
    "#Creates an array of 1 random number between low limit(1) and upper limit(10)[lower is inclusive while upper is exclusive]\n",
    "print(np.random.randint(1,10),\"\\n\")\n",
    "\n",
    "#Creates an array of 6 random numbesr between low limit(1) and upper limit(10)[lower is inclusive while upper is exclusive]\n",
    "randArray=np.random.randint(1,10,6)\n",
    "print(randArray,\"\\n\")\n",
    "#Reshaping the 1D array to 2D using reshape() function\n",
    "randArray=randArray.reshape(2,3)\n",
    "print(randArray,\"\\n\")"
   ]
  },
  {
   "cell_type": "markdown",
   "id": "436ff51d",
   "metadata": {},
   "source": [
    "# .shape(), .dtype(), .ndim()"
   ]
  },
  {
   "cell_type": "code",
   "execution_count": 29,
   "id": "bfe742d5",
   "metadata": {},
   "outputs": [
    {
     "name": "stdout",
     "output_type": "stream",
     "text": [
      "[0 1 2 3 4 5 6 7]\n",
      "(8,) \n",
      "\n",
      "[[0 1]\n",
      " [2 3]\n",
      " [4 5]\n",
      " [6 7]]\n",
      "(4, 2) \n",
      "\n",
      "[0]\n",
      "(1,) \n",
      "\n"
     ]
    }
   ],
   "source": [
    "#.shape() function gives the order of the array\n",
    "import numpy as np\n",
    "\n",
    "array=np.arange(0,8)\n",
    "print(array)\n",
    "print(array.shape,\"\\n\")\n",
    "\n",
    "array=array.reshape(4,2)\n",
    "print(array)\n",
    "print(array.shape,\"\\n\")\n",
    "\n",
    "array=np.array([0]);\n",
    "print(array)\n",
    "print(array.shape,\"\\n\")"
   ]
  },
  {
   "cell_type": "code",
   "execution_count": 30,
   "id": "07ea86c6",
   "metadata": {},
   "outputs": [
    {
     "name": "stdout",
     "output_type": "stream",
     "text": [
      "[0 1 2 3 4 5 6 7]\n",
      "1 \n",
      "\n",
      "[[0 1]\n",
      " [2 3]\n",
      " [4 5]\n",
      " [6 7]]\n",
      "2 \n",
      "\n",
      "[0]\n",
      "1 \n",
      "\n"
     ]
    }
   ],
   "source": [
    "#.ndim() function gives the dimension of the array\n",
    "import numpy as np\n",
    "\n",
    "array=np.arange(0,8)\n",
    "print(array)\n",
    "print(array.ndim,\"\\n\")\n",
    "\n",
    "array=array.reshape(4,2)\n",
    "print(array)\n",
    "print(array.ndim,\"\\n\")\n",
    "\n",
    "array=np.array([0]);\n",
    "print(array)\n",
    "#.ndim() function gives the dimension of the arrayprint(array.ndim,\"\\n\")"
   ]
  },
  {
   "cell_type": "code",
   "execution_count": 32,
   "id": "aeacc3b1",
   "metadata": {},
   "outputs": [
    {
     "name": "stdout",
     "output_type": "stream",
     "text": [
      "[0 1 2 3 4 5 6 7]\n",
      "int32 \n",
      "\n",
      "[0. 1. 2. 3. 4. 5. 6. 7.]\n",
      "float64 \n",
      "\n"
     ]
    }
   ],
   "source": [
    "#.ndim() function gives the data type of the array\n",
    "import numpy as np\n",
    "\n",
    "array=np.arange(0,8)\n",
    "print(array)\n",
    "print(array.dtype,\"\\n\")\n",
    "\n",
    "array=np.arange(0,8,dtype=\"float\")\n",
    "print(array)\n",
    "print(array.dtype,\"\\n\")"
   ]
  },
  {
   "cell_type": "markdown",
   "id": "23f19ed8",
   "metadata": {},
   "source": [
    "# max() argmax()"
   ]
  },
  {
   "cell_type": "code",
   "execution_count": 3,
   "id": "537504b3",
   "metadata": {},
   "outputs": [],
   "source": [
    "from numpy import *"
   ]
  },
  {
   "cell_type": "code",
   "execution_count": 10,
   "id": "88f21693",
   "metadata": {},
   "outputs": [
    {
     "name": "stdout",
     "output_type": "stream",
     "text": [
      "[8 2 4 9 3]\n",
      "9\n",
      "3\n"
     ]
    }
   ],
   "source": [
    "num=random.randint(1,10,5)\n",
    "print(num)\n",
    "print(num.max())\n",
    "print(num.argmax())"
   ]
  },
  {
   "cell_type": "code",
   "execution_count": 11,
   "id": "d47311a4",
   "metadata": {},
   "outputs": [
    {
     "name": "stdout",
     "output_type": "stream",
     "text": [
      "[[31  9  7  2]\n",
      " [26 41 40  0]\n",
      " [42  4  1 12]]\n",
      "42\n",
      "8\n"
     ]
    }
   ],
   "source": [
    "num=random.randint(0,50,(3,4))\n",
    "print(num)\n",
    "print(num.max())\n",
    "print(num.argmax())"
   ]
  },
  {
   "cell_type": "markdown",
   "id": "94227d0c",
   "metadata": {},
   "source": [
    "max() function returns the maximum value in the array while the argmax() function returns the index of the maximum value(counting starts from 0, left to right)"
   ]
  },
  {
   "cell_type": "markdown",
   "id": "1ad0a526",
   "metadata": {},
   "source": [
    "# min() argmin()"
   ]
  },
  {
   "cell_type": "code",
   "execution_count": 14,
   "id": "d94c0f73",
   "metadata": {},
   "outputs": [
    {
     "name": "stdout",
     "output_type": "stream",
     "text": [
      "[28 42  9 11 45 17 12 20 28 12]\n",
      "9\n",
      "2\n"
     ]
    }
   ],
   "source": [
    "import numpy as np\n",
    "num=random.randint(1,50,10)\n",
    "print(num)\n",
    "print(num.min())\n",
    "print(num.argmin())"
   ]
  },
  {
   "cell_type": "code",
   "execution_count": 15,
   "id": "4355a9e7",
   "metadata": {},
   "outputs": [
    {
     "name": "stdout",
     "output_type": "stream",
     "text": [
      "[[ 7 48  4 29]\n",
      " [ 4 49 19  6]\n",
      " [44 48 17 38]]\n",
      "4\n",
      "2\n"
     ]
    }
   ],
   "source": [
    "num=random.randint(1,50,(3,4))\n",
    "print(num)\n",
    "print(num.min())\n",
    "print(num.argmin())"
   ]
  },
  {
   "cell_type": "markdown",
   "id": "d13f74d2",
   "metadata": {},
   "source": [
    "min() function returns the minimum value in the array while the argmin() function returns the index of the minimum value(counting starts from 0, left to right)"
   ]
  },
  {
   "cell_type": "markdown",
   "id": "50eaef0a",
   "metadata": {},
   "source": [
    "# Concatenate()"
   ]
  },
  {
   "cell_type": "code",
   "execution_count": 74,
   "id": "29e0b313",
   "metadata": {},
   "outputs": [
    {
     "name": "stdout",
     "output_type": "stream",
     "text": [
      "[1 2 3 4]\n",
      "[5 6 7 8]\n",
      "[1 2 3 4 5 6 7 8]\n"
     ]
    }
   ],
   "source": [
    "#Concatenating a 1D array:-\n",
    "#concatenate([array1, array2])\n",
    "\n",
    "from numpy import *\n",
    "\n",
    "array1=arange(1,5)\n",
    "print(array1)\n",
    "\n",
    "array2=arange(5,9)\n",
    "print(array2)\n",
    "\n",
    "#Concatenates(joins) array1& array2\n",
    "array3=concatenate([array1,array2])\n",
    "print(array3)"
   ]
  },
  {
   "cell_type": "code",
   "execution_count": 75,
   "id": "d326a4c8",
   "metadata": {},
   "outputs": [
    {
     "name": "stdout",
     "output_type": "stream",
     "text": [
      "[[1 2]\n",
      " [3 4]] \n",
      "\n",
      "[[5 6]\n",
      " [7 8]] \n",
      "\n",
      "[[1 2]\n",
      " [3 4]\n",
      " [5 6]\n",
      " [7 8]] \n",
      "\n",
      "[[1 2 5 6]\n",
      " [3 4 7 8]] \n",
      "\n"
     ]
    }
   ],
   "source": [
    "#Concatenating a 2D array:-\n",
    "#Concatenating arrays on the basis of axis:-\n",
    "\n",
    "array1=arange(1,5).reshape(2,2)\n",
    "print(array1,\"\\n\")\n",
    "array2=array([[5,6],[7,8]])\n",
    "print(array2,\"\\n\")\n",
    "\n",
    "#if axis=0 then concatenates column wise(by default axis is 0)\n",
    "array3=concatenate([array1,array2],axis=0)\n",
    "print(array3,\"\\n\")\n",
    "#4x2\n",
    "\n",
    "#if axis=1 then concatenates row wise(by default axis is 0)\n",
    "array3=concatenate([array1,array2],axis=1)\n",
    "print(array3,\"\\n\")\n",
    "#2x4"
   ]
  },
  {
   "cell_type": "markdown",
   "id": "c24666c0",
   "metadata": {},
   "source": [
    "# split()"
   ]
  },
  {
   "cell_type": "code",
   "execution_count": 69,
   "id": "8ea6a0c6",
   "metadata": {},
   "outputs": [
    {
     "name": "stdout",
     "output_type": "stream",
     "text": [
      "[1 2 3 4 4 5 5 5] \n",
      "\n",
      "[1 2] \n",
      "\n",
      "[3 4 4] \n",
      "\n",
      "[5 5 5] \n",
      "\n",
      "[1 2] \n",
      "\n",
      "[3 4] \n",
      "\n",
      "[4 5] \n",
      "\n",
      "[5 5] \n",
      "\n"
     ]
    }
   ],
   "source": [
    "#Splitting a 1D array:-\n",
    "\n",
    "import numpy as np\n",
    "\n",
    "#Splitting manually on the basis of index\n",
    "array=np.array([1,2,3,4,4,5,5,5])\n",
    "print(array,\"\\n\")\n",
    "(x,y,z)=np.split(array,[2,5])\n",
    "print(x,\"\\n\")\n",
    "print(y,\"\\n\")\n",
    "print(z,\"\\n\")\n",
    "\n",
    "#Splitting on the basis of portions\n",
    "(a,b,c,d)=np.split(array,4)\n",
    "print(a,\"\\n\")\n",
    "print(b,\"\\n\")\n",
    "print(c,\"\\n\")\n",
    "print(d,\"\\n\")"
   ]
  },
  {
   "cell_type": "code",
   "execution_count": 84,
   "id": "d43e4d4d",
   "metadata": {},
   "outputs": [
    {
     "name": "stdout",
     "output_type": "stream",
     "text": [
      "[[ 0  1  2  3]\n",
      " [ 4  5  6  7]\n",
      " [ 8  9 10 11]\n",
      " [12 13 14 15]\n",
      " [16 17 18 19]]\n",
      "[[0 1 2 3]]\n",
      "[[ 4  5  6  7]\n",
      " [ 8  9 10 11]]\n",
      "[[12 13 14 15]\n",
      " [16 17 18 19]]\n",
      "[[ 0]\n",
      " [ 4]\n",
      " [ 8]\n",
      " [12]\n",
      " [16]]\n",
      "[[ 1  2]\n",
      " [ 5  6]\n",
      " [ 9 10]\n",
      " [13 14]\n",
      " [17 18]]\n",
      "[[ 3]\n",
      " [ 7]\n",
      " [11]\n",
      " [15]\n",
      " [19]]\n"
     ]
    }
   ],
   "source": [
    "#Splitting a 2D array:-\n",
    "\n",
    "import numpy as np\n",
    "\n",
    "#Creating a 2D array\n",
    "array=np.arange(0,20).reshape(5,4)\n",
    "print(array)\n",
    "\n",
    "#Splitting the array\n",
    "np.split(array,[1,3])                      #Splits the array into 3 portions, 1st row, second and third row, 4th and 5th row\n",
    "\n",
    "#Storring the splitted arrays into variables\n",
    "x,y,z=np.split(array,[1,3])                #By default axis is taken 0(i.e rows operation)\n",
    "print(x)\n",
    "print(y)\n",
    "print(z)\n",
    "\n",
    "x,y,z=np.split(array,[1,3], axis=1)        #Axis is 1(i.e. columns operation)\n",
    "print(x)\n",
    "print(y)\n",
    "print(z)\n",
    "\n",
    "#hsplit\n",
    "#vsplit"
   ]
  },
  {
   "cell_type": "markdown",
   "id": "f4314c78",
   "metadata": {},
   "source": [
    "# Sort()"
   ]
  },
  {
   "cell_type": "code",
   "execution_count": 68,
   "id": "d5085c0f",
   "metadata": {},
   "outputs": [
    {
     "name": "stdout",
     "output_type": "stream",
     "text": [
      "[17 16  1  8 18  4  1  2  7  5]\n",
      "[ 1  1  2  4  5  7  8 16 17 18] \n",
      "\n",
      "[[ 9  9  8]\n",
      " [ 8  7 13]\n",
      " [ 5 14 10]] \n",
      "\n",
      "[[ 8  9  9]\n",
      " [ 7  8 13]\n",
      " [ 5 10 14]] \n",
      "\n",
      "[[ 5  8  9]\n",
      " [ 7  9 13]\n",
      " [ 8 10 14]] \n",
      "\n"
     ]
    }
   ],
   "source": [
    "#Sorting an array:-\n",
    "#sort(array, axis=by default 1(i.e sorts row wise))\n",
    "\n",
    "#Sort a 1D array:-\n",
    "array=random.randint(1,20,10)\n",
    "print(array)\n",
    "array=sort(array)\n",
    "print(array,'\\n')\n",
    "\n",
    "#Sorting a 2D array:-\n",
    "array=random.randint(1,20,(3,3))\n",
    "print(array,\"\\n\")\n",
    "\n",
    "#Sorts row wise because by default axis=1\n",
    "array=sort(array)\n",
    "print(array,\"\\n\")\n",
    "\n",
    "#Sorts column wise because we set axis=0\n",
    "array=sort(array, axis=0)\n",
    "print(array,'\\n')"
   ]
  },
  {
   "cell_type": "markdown",
   "id": "a4d6f31f",
   "metadata": {},
   "source": [
    "# Indexing a numpy array"
   ]
  },
  {
   "cell_type": "code",
   "execution_count": 14,
   "id": "da02bc0e",
   "metadata": {},
   "outputs": [
    {
     "name": "stdout",
     "output_type": "stream",
     "text": [
      "[ 0  1  2  3  4  5  6  7  8  9 10]\n",
      "4\n",
      "9 \n",
      "\n",
      "[[0 1 2]\n",
      " [3 4 5]\n",
      " [6 7 8]]\n",
      "1\n",
      "8\n",
      "5 \n",
      "\n"
     ]
    }
   ],
   "source": [
    "import numpy as np\n",
    "\n",
    "array=np.arange(0,11)\n",
    "print(array)\n",
    "\n",
    "#Enter the index of the array you want\n",
    "print(array[4])\n",
    "\n",
    "#Negative Index number\n",
    "print(array[-2],\"\\n\")    \n",
    "\n",
    "#2D Numpy array\n",
    "array=np.array([[0,1,2],\n",
    "                [3,4,5],\n",
    "                [6,7,8]])\n",
    "print(array)\n",
    "\n",
    "#Enter the index of the array you want\n",
    "print(array[0][1])\n",
    "\n",
    "#Negative Index number\n",
    "print(array[-1][-1]) \n",
    "\n",
    "#Using negative as well as positive index num\n",
    "print(array[-2][2],\"\\n\") \n",
    "\n",
    "#negative index start from right to left, i.e. right most element is -"
   ]
  },
  {
   "cell_type": "markdown",
   "id": "4f3e840b",
   "metadata": {},
   "source": [
    "# Slicing a numpy array"
   ]
  },
  {
   "cell_type": "code",
   "execution_count": 6,
   "id": "b6b29dc3",
   "metadata": {},
   "outputs": [
    {
     "name": "stdout",
     "output_type": "stream",
     "text": [
      "[ 0  1  2  3  4  5  6  7  8  9 10] \n",
      "\n",
      "[2 3 4 5] \n",
      "\n",
      "[ 2  3  4  5  6  7  8  9 10] \n",
      "\n",
      "[ 2  4  6  8 10] \n",
      "\n",
      "[0 3 6] \n",
      "\n",
      "[ 0  1  2  3  4  5  6  7  8  9 10]\n",
      "[0 0 0 0 0 0 0 0 0 0 0]\n"
     ]
    }
   ],
   "source": [
    "#1D Array\n",
    "#(start{inclusive}, stop{exclusive}, step)\n",
    "\n",
    "import numpy as np\n",
    "\n",
    "array=np.arange(0,11)\n",
    "print(array,\"\\n\")\n",
    "\n",
    "#Start& End both defined\n",
    "print(array[2:6],\"\\n\")\n",
    "\n",
    "#End at the end\n",
    "print(array[2:],\"\\n\")\n",
    "\n",
    "#End at the end\n",
    "print(array[2::2],\"\\n\")\n",
    "\n",
    "#Start from start\n",
    "print(array[:7:3],\"\\n\")\n",
    "\n",
    "#IMP\n",
    "#Copy an array\n",
    "arrayCopy=array.copy()\n",
    "print(arrayCopy)\n",
    "\n",
    "arrayCopy[:]=0\n",
    "\n",
    "print(arrayCopy)"
   ]
  },
  {
   "cell_type": "code",
   "execution_count": 9,
   "id": "3825ae70",
   "metadata": {},
   "outputs": [
    {
     "name": "stdout",
     "output_type": "stream",
     "text": [
      "[[ 0  1  2  3  4]\n",
      " [ 5  6  7  8  9]\n",
      " [10 11 12 13 14]\n",
      " [15 16 17 18 19]\n",
      " [20 21 22 23 24]\n",
      " [25 26 27 28 29]] \n",
      "\n",
      "[10 11 12 13 14]\n",
      "[10 11 12 13 14] \n",
      "\n",
      "[ 2  7 12 17 22 27] \n",
      "\n",
      "[[ 5  6  7]\n",
      " [10 11 12]\n",
      " [15 16 17]] \n",
      "\n",
      "[[ 0  2  4]\n",
      " [10 12 14]\n",
      " [20 22 24]] \n",
      "\n"
     ]
    }
   ],
   "source": [
    "#2D Array\n",
    "\n",
    "import numpy as np\n",
    "\n",
    "array=np.arange(30).reshape(6,5)\n",
    "print(array,\"\\n\")\n",
    "\n",
    "#Selecting a row\n",
    "#Row number defined with or without empty colons=whole row\n",
    "print(array[2,:])\n",
    "print(array[2,],\"\\n\")\n",
    "\n",
    "#Selecting a column\n",
    "print(array[:,2],\"\\n\")   #EMPTY COLONS GET THE WHOLE ROWS\n",
    "\n",
    "#Selecting rows+columns\n",
    "print(array[1:4,0:3],\"\\n\")\n",
    "print(array[0::2,0::2],\"\\n\")\n",
    "#array(RowStart:RowStop,ColumnStart:ColumnStop)"
   ]
  },
  {
   "cell_type": "markdown",
   "id": "b07056d7",
   "metadata": {},
   "source": [
    "# Assigning value to an index in an Array"
   ]
  },
  {
   "cell_type": "code",
   "execution_count": 5,
   "id": "f10d4257",
   "metadata": {},
   "outputs": [
    {
     "name": "stdout",
     "output_type": "stream",
     "text": [
      "[1 2 3 3 5 6 7 8 9]\n",
      "[1 2 3 4 5 6 7 8 9] \n",
      "\n",
      "[1 2 3 3 5 5 5 5 5]\n",
      "[1 2 3 4 5 6 7 8 9] \n",
      "\n",
      "[1 2 3 3 5 5 5 5 5]\n",
      "[0 0 0 0 0 0 0 0 0] \n",
      "\n"
     ]
    }
   ],
   "source": [
    "#1D Array:-\n",
    "\n",
    "import numpy as np\n",
    "\n",
    "array = np.array([1,2,3,3,5,6,7,8,9])\n",
    "print(array)\n",
    "#Assign value to a single index in an array\n",
    "array[3]=4\n",
    "print(array,\"\\n\")\n",
    "\n",
    "array = np.array([1,2,3,3,5,5,5,5,5])\n",
    "print(array)\n",
    "#Assign value to multiple index in an array\n",
    "array[3:]=4,5,6,7,8,9\n",
    "print(array,\"\\n\")\n",
    "\n",
    "array = np.array([1,2,3,3,5,5,5,5,5])\n",
    "print(array)\n",
    "#Assign same value to multiple index in an array\n",
    "array[:]=0\n",
    "print(array,\"\\n\")"
   ]
  },
  {
   "cell_type": "code",
   "execution_count": 18,
   "id": "0c21151c",
   "metadata": {
    "scrolled": true
   },
   "outputs": [
    {
     "name": "stdout",
     "output_type": "stream",
     "text": [
      "[[1 2 3]\n",
      " [4 5 6]\n",
      " [7 8 9]]\n",
      "[[1 2 3]\n",
      " [4 0 6]\n",
      " [7 8 9]] \n",
      "\n",
      "[[1 0 3]\n",
      " [4 0 6]\n",
      " [7 0 9]] \n",
      "\n"
     ]
    }
   ],
   "source": [
    "#2D Array:-\n",
    "\n",
    "import numpy as np\n",
    "\n",
    "array = np.array([[1,2,3],\n",
    "                 [4,5,6],\n",
    "                 [7,8,9]])\n",
    "print(array)\n",
    "\n",
    "#Assign a value to a single index\n",
    "array[1][1]=0\n",
    "print(array,\"\\n\")\n",
    "\n",
    "#Assign same value to multiple index\n",
    "array[0:3,1:2]=0\n",
    "print(array,\"\\n\")"
   ]
  },
  {
   "cell_type": "markdown",
   "id": "d758183b",
   "metadata": {},
   "source": [
    "# Fancy Indexing"
   ]
  },
  {
   "cell_type": "code",
   "execution_count": 1,
   "id": "068ae5bb",
   "metadata": {},
   "outputs": [
    {
     "name": "stdout",
     "output_type": "stream",
     "text": [
      "[ 0  5 10 15 20 25 30 35 40 45 50]\n",
      "[ 0 25 50]\n"
     ]
    }
   ],
   "source": [
    "#1D Array\n",
    "\n",
    "import numpy as np\n",
    "\n",
    "array=np.arange(0,55,5)\n",
    "print(array)\n",
    "index=[0,5,10]\n",
    "\n",
    "#Create a new array of all the index whose value you want and access them using the array\n",
    "print(array[index])"
   ]
  },
  {
   "cell_type": "code",
   "execution_count": 29,
   "id": "23a4bc4e",
   "metadata": {},
   "outputs": [
    {
     "name": "stdout",
     "output_type": "stream",
     "text": [
      "[[0 0 0 0 0 0 0 0 0 0]\n",
      " [0 0 0 0 0 0 0 0 0 0]\n",
      " [0 0 0 0 0 0 0 0 0 0]\n",
      " [0 0 0 0 0 0 0 0 0 0]\n",
      " [0 0 0 0 0 0 0 0 0 0]\n",
      " [0 0 0 0 0 0 0 0 0 0]\n",
      " [0 0 0 0 0 0 0 0 0 0]\n",
      " [0 0 0 0 0 0 0 0 0 0]\n",
      " [0 0 0 0 0 0 0 0 0 0]\n",
      " [0 0 0 0 0 0 0 0 0 0]] \n",
      "\n",
      "(10, 10)\n",
      "10\n",
      "[[0 0 0 0 0 0 0 0 0 0]\n",
      " [1 1 1 1 1 1 1 1 1 1]\n",
      " [2 2 2 2 2 2 2 2 2 2]\n",
      " [3 3 3 3 3 3 3 3 3 3]\n",
      " [4 4 4 4 4 4 4 4 4 4]\n",
      " [5 5 5 5 5 5 5 5 5 5]\n",
      " [6 6 6 6 6 6 6 6 6 6]\n",
      " [7 7 7 7 7 7 7 7 7 7]\n",
      " [8 8 8 8 8 8 8 8 8 8]\n",
      " [9 9 9 9 9 9 9 9 9 9]] \n",
      "\n",
      "[[1 1 1 1 1 1 1 1 1 1]\n",
      " [3 3 3 3 3 3 3 3 3 3]\n",
      " [5 5 5 5 5 5 5 5 5 5]\n",
      " [7 7 7 7 7 7 7 7 7 7]] \n",
      "\n",
      "[0 1 2 3] \n",
      "\n"
     ]
    },
    {
     "data": {
      "text/plain": [
       "array([0, 3])"
      ]
     },
     "execution_count": 29,
     "metadata": {},
     "output_type": "execute_result"
    }
   ],
   "source": [
    "#2D Array\n",
    "\n",
    "import numpy as np\n",
    "\n",
    "array=np.zeros((10,10),dtype=\"int\")\n",
    "print(array,\"\\n\")\n",
    "\n",
    "print(array.shape)\n",
    "row=array.shape[0]\n",
    "print(row)\n",
    "\n",
    "#IMP\n",
    "#Assigns i(value) to the whole array[i](th)row\n",
    "for i in range(row):\n",
    "    array[i]=i\n",
    "print(array,\"\\n\")\n",
    "\n",
    "index=[1,3,5,7]\n",
    "print(array[index],\"\\n\")\n",
    "\n",
    "#IMP\n",
    "#Acessing multiple index at the same time\n",
    "row=[0,1,2,3]\n",
    "cols=[3,2,0,2]\n",
    "print(array[row, cols],\"\\n\")"
   ]
  },
  {
   "cell_type": "markdown",
   "id": "21eb518f",
   "metadata": {},
   "source": [
    "# Combining Fancy Indexing with Normal Indexing"
   ]
  },
  {
   "cell_type": "code",
   "execution_count": 39,
   "id": "c4e855a3",
   "metadata": {},
   "outputs": [
    {
     "name": "stdout",
     "output_type": "stream",
     "text": [
      "[[ 0  1  2  3]\n",
      " [ 4  5  6  7]\n",
      " [ 8  9 10 11]\n",
      " [12 13 14 15]]\n",
      "[5 7]\n",
      "[1 9]\n"
     ]
    }
   ],
   "source": [
    "import numpy as np\n",
    "\n",
    "array=np.arange(0,16).reshape(4,4)\n",
    "print(array)\n",
    "\n",
    "#Accessing two elements in different coloumns but same rows\n",
    "print(array[1,[1,3]])\n",
    "#          1xn   n\n",
    "\n",
    "#Accessing two elements in different rows but same columns\n",
    "print(array[[0,2],1])\n",
    "#              n ,nx1\n",
    "#Why prints 1 but not 2?"
   ]
  },
  {
   "cell_type": "markdown",
   "id": "997ffe50",
   "metadata": {},
   "source": [
    "# Operatons in NumPy lib"
   ]
  },
  {
   "cell_type": "code",
   "execution_count": 15,
   "id": "563f4095",
   "metadata": {},
   "outputs": [
    {
     "name": "stdout",
     "output_type": "stream",
     "text": [
      "[0 1 2 3 4 5 6 7 8 9]\n",
      "[False False False False False False  True  True  True  True]\n",
      "[6 7 8 9]\n",
      "[0 1 2 3 4 5]\n",
      "[6 7 9]\n"
     ]
    }
   ],
   "source": [
    "#>,<,== operator\n",
    "import numpy as np\n",
    "\n",
    "array=np.arange(0,10)\n",
    "print(array)\n",
    "\n",
    "print(array>5)\n",
    "\n",
    "print(array[array>5])\n",
    "\n",
    "condition = array<=5\n",
    "print(array[condition])\n",
    "\n",
    "newCondition = (array!=8) &  (array>=6)\n",
    "print(array[newCondition])"
   ]
  },
  {
   "cell_type": "markdown",
   "id": "ec468a50",
   "metadata": {},
   "source": [
    "# Arithemetic Operations\n"
   ]
  },
  {
   "cell_type": "code",
   "execution_count": 28,
   "id": "e4cb2ce5",
   "metadata": {},
   "outputs": [
    {
     "name": "stdout",
     "output_type": "stream",
     "text": [
      "[0 1 2 3 4 5 6 7 8 9]\n",
      "[ 5  6  7  8  9 10 11 12 13 14]\n",
      "[14. 16. 18. 20. 22. 24. 26. 28. 30. 32.]\n",
      "[ 196.  256.  324.  400.  484.  576.  676.  784.  900. 1024.]\n",
      "[  38416.   65536.  104976.  160000.  234256.  331776.  456976.  614656.\n",
      "  810000. 1048576.]\n",
      "[0. 0. 0. 0. 0. 0. 0. 0. 0. 0.]\n"
     ]
    }
   ],
   "source": [
    "import numpy as np\n",
    "\n",
    "array=np.arange(0,10,dtype=\"int\")\n",
    "print(array)\n",
    "\n",
    "array=array+5\n",
    "print(array)\n",
    "\n",
    "array=(((array*10)+20)/5)\n",
    "print(array)\n",
    "\n",
    "#Multiplying an array with an array\n",
    "array=array*array\n",
    "print(array)\n",
    "\n",
    "#Exponent\n",
    "array=array**2\n",
    "print(array)\n",
    "\n",
    "#Mode\n",
    "array=array%2\n",
    "print(array)"
   ]
  },
  {
   "cell_type": "code",
   "execution_count": 45,
   "id": "de3496d0",
   "metadata": {},
   "outputs": [
    {
     "name": "stdout",
     "output_type": "stream",
     "text": [
      "[0 1 2 3 4 5 6 7 8 9]\n",
      "[ 5  6  7  8  9 10 11 12 13 14]\n",
      "[0 1 2 3 4 5 6 7 8 9]\n",
      "[ 0  5 10 15 20 25 30 35 40 45]\n",
      "[0. 1. 2. 3. 4. 5. 6. 7. 8. 9.]\n",
      "[ 0.  1.  4.  9. 16. 25. 36. 49. 64. 81.]\n",
      "[0. 1. 2. 3. 4. 5. 6. 7. 8. 9.]\n",
      "[0. 1. 0. 1. 0. 1. 0. 1. 0. 1.]\n",
      "-0.4480736161291701\n",
      "3.141592653589793 \n",
      "\n",
      "[0.43934254 0.54023367 0.92808244 0.87297935 0.88311106 0.89785119\n",
      " 0.11918528 0.8715745  0.54265578 0.63741302]\n",
      "[-0.82247589 -0.61575352 -0.07463472 -0.13584338 -0.12430431 -0.10775094\n",
      " -2.12707603 -0.13745393 -0.61128009 -0.45033745]\n",
      "[-1.18658189 -0.88834455 -0.10767514 -0.19598057 -0.17933321 -0.15545174\n",
      " -3.06872204 -0.19830411 -0.88189075 -0.6496996 ]\n"
     ]
    }
   ],
   "source": [
    "import numpy as np\n",
    "\n",
    "array=np.arange(0,10,dtype=\"int\")\n",
    "print(array)\n",
    "\n",
    "#Addition\n",
    "array=np.add(array,5)\n",
    "print(array)\n",
    "\n",
    "#Subtraction\n",
    "array=np.subtract(array,5)\n",
    "print(array)\n",
    "\n",
    "#Multiplication\n",
    "array=np.multiply(array,5)\n",
    "print(array)\n",
    "\n",
    "#Division\n",
    "array=np.divide(array,5)\n",
    "print(array)\n",
    "\n",
    "#Exponent\n",
    "array=np.power(array,2)\n",
    "print(array)\n",
    "\n",
    "#Square Root\n",
    "array=np.sqrt(array)\n",
    "print(array)\n",
    "\n",
    "#Mode\n",
    "array=np.mod(array,2)\n",
    "print(array)\n",
    "\n",
    "#Trignometric Functions\n",
    "print(np.cos(90))\n",
    "print(np.arccos(-1),\"\\n\")\n",
    "\n",
    "array=np.random.rand(10)\n",
    "print(array)\n",
    "#Lograthmic Functions\n",
    "print(np.log(array))\n",
    "print(np.log10(array))      #Base can be inserted"
   ]
  },
  {
   "cell_type": "markdown",
   "id": "717ce514",
   "metadata": {},
   "source": [
    "##### NUMPY OPERATIONS CHEATSHEET"
   ]
  },
  {
   "cell_type": "markdown",
   "id": "98641cdb",
   "metadata": {},
   "source": [
    "# Statstical Operations"
   ]
  },
  {
   "cell_type": "code",
   "execution_count": 14,
   "id": "8fd27eb8",
   "metadata": {},
   "outputs": [
    {
     "name": "stdout",
     "output_type": "stream",
     "text": [
      "[ 1  2  3  4  5  6  7  8  9 10]\n",
      "55\n",
      "5.5\n",
      "5.5\n",
      "2.8722813232690143\n",
      "8.25\n",
      "1\n",
      "10\n"
     ]
    }
   ],
   "source": [
    "import numpy as np\n",
    "\n",
    "array=np.arange(1,11)\n",
    "print(array)\n",
    "\n",
    "#Gives the sum of all the values present in the array\n",
    "print(np.sum(array))\n",
    "\n",
    "#Gives the mean(average) of all the values present in the array\n",
    "print(np.mean(array))\n",
    "\n",
    "#Median:The middle element of the array(if total number of elements in array==even then sum of both middle elements/2 else middle element)\n",
    "print(np.median(array))\n",
    "\n",
    "#Standard Deviation: Standard deviation is a statistical measure that quantifies the amount of variability or dispersion in a set of data points. In other words, it provides a way to understand how spread out the values in a data set are from the mean (average) value. A higher standard deviation indicates greater variability, while a lower standard deviation indicates that the values are closer to the mean.\n",
    "#1. Find the mean (average) of the values.\n",
    "#2. Subtract the mean from each value to get the deviation from the mean.\n",
    "#3. Square each deviation.\n",
    "#4. Find the mean of the squared deviations.\n",
    "#5. Take the square root of the mean of squared deviations to get the standard deviation.\n",
    "print(np.std(array))\n",
    "\n",
    "#Variance: Square of the standard deviaion\n",
    "print(np.var(array))\n",
    "\n",
    "#Minimum Value present in the array\n",
    "print(np.min(array))\n",
    "\n",
    "#Maximum Value present in the array\n",
    "print(np.max(array))\n"
   ]
  },
  {
   "cell_type": "markdown",
   "id": "32d9fef6",
   "metadata": {},
   "source": [
    "##### NUMPY STATISTICS CHEATSHEET"
   ]
  },
  {
   "cell_type": "markdown",
   "id": "52d63103",
   "metadata": {},
   "source": [
    "# Solving Mathematical Equations"
   ]
  },
  {
   "cell_type": "code",
   "execution_count": 23,
   "id": "0dc35c40",
   "metadata": {},
   "outputs": [
    {
     "name": "stdout",
     "output_type": "stream",
     "text": [
      "[ 1.76923077 -0.92307692]\n"
     ]
    }
   ],
   "source": [
    "import numpy as np\n",
    "\n",
    "#X1  + 3X2  = -1\n",
    "#2X1 - 7X2  = 10\n",
    "\n",
    "cofficients=np.array([[1,3],[2,-7]])\n",
    "results=np.array([-1,10])\n",
    "\n",
    "print(np.linalg.solve(cofficients, results))"
   ]
  },
  {
   "cell_type": "code",
   "execution_count": null,
   "id": "fe9e99dc",
   "metadata": {},
   "outputs": [],
   "source": []
  }
 ],
 "metadata": {
  "kernelspec": {
   "display_name": "Python 3 (ipykernel)",
   "language": "python",
   "name": "python3"
  },
  "language_info": {
   "codemirror_mode": {
    "name": "ipython",
    "version": 3
   },
   "file_extension": ".py",
   "mimetype": "text/x-python",
   "name": "python",
   "nbconvert_exporter": "python",
   "pygments_lexer": "ipython3",
   "version": "3.10.9"
  }
 },
 "nbformat": 4,
 "nbformat_minor": 5
}
